{
 "cells": [
  {
   "cell_type": "markdown",
   "metadata": {},
   "source": [
    "# Decision Tree Regression - Comprehensive Analysis / Kapsamlı Analiz\n",
    "\n",
    "**English:** This notebook provides a comprehensive analysis of Decision Tree Regression:\n",
    "- Dataset exploration and EDA\n",
    "- Decision Tree Regression model\n",
    "- Comparison with other regression models\n",
    "- Hyperparameter optimization\n",
    "- Model performance evaluation\n",
    "\n",
    "**Türkçe:** Bu notebook Decision Tree Regression algoritmasının kapsamlı analizini sunar:\n",
    "- Veri seti keşfi ve EDA\n",
    "- Decision Tree Regression modeli\n",
    "- Diğer regression modelleri ile karşılaştırma\n",
    "- Hiperparametre optimizasyonu\n",
    "- Model performans değerlendirmesi"
   ]
  },
  {
   "cell_type": "code",
   "execution_count": null,
   "metadata": {},
   "outputs": [],
   "source": [
    "# Import necessary libraries / Gerekli kütüphaneleri import edelim\n",
    "import pandas as pd\n",
    "import numpy as np\n",
    "import matplotlib.pyplot as plt\n",
    "import seaborn as sns\n",
    "from sklearn.datasets import fetch_california_housing\n",
    "from sklearn.model_selection import train_test_split, GridSearchCV, cross_val_score\n",
    "from sklearn.tree import DecisionTreeRegressor, plot_tree\n",
    "from sklearn.linear_model import LinearRegression, Ridge, ElasticNet\n",
    "from sklearn.svm import SVR\n",
    "from sklearn.metrics import mean_squared_error, r2_score, mean_absolute_error\n",
    "from sklearn.preprocessing import StandardScaler\n",
    "import warnings\n",
    "warnings.filterwarnings('ignore')\n",
    "\n",
    "# Plot settings / Grafik ayarları\n",
    "plt.style.use('default')\n",
    "sns.set_palette(\"husl\")\n",
    "plt.rcParams['figure.figsize'] = (12, 8)"
   ]
  },
  {
   "cell_type": "markdown",
   "metadata": {},
   "source": [
    "## 1. Dataset Loading and Initial Exploration / Veri Setini Yükleme ve İlk İnceleme"
   ]
  },
  {
   "cell_type": "code",
   "execution_count": null,
   "metadata": {},
   "outputs": [],
   "source": [
    "# Load California Housing dataset / California Housing veri setini yükleyelim\n",
    "housing = fetch_california_housing()\n",
    "df = pd.DataFrame(housing.data, columns=housing.feature_names)\n",
    "df['target'] = housing.target\n",
    "\n",
    "print(\"Dataset shape / Veri seti boyutu:\", df.shape)\n",
    "print(\"\\nDataset description / Veri seti açıklaması:\")\n",
    "print(housing.DESCR[:800] + \"...\")"
   ]
  },
  {
   "cell_type": "code",
   "execution_count": null,
   "metadata": {},
   "outputs": [],
   "source": [
    "# Display first 5 rows / İlk 5 satırı görüntüleyelim\n",
    "print(\"First 5 rows / İlk 5 satır:\")\n",
    "df.head()"
   ]
  },
  {
   "cell_type": "code",
   "execution_count": null,
   "metadata": {},
   "outputs": [],
   "source": [
    "# Basic information about dataset / Veri seti hakkında temel bilgiler\n",
    "print(\"Dataset Info / Veri Seti Bilgileri:\")\n",
    "print(df.info())\n",
    "print(\"\\nStatistical Summary / İstatistiksel Özet:\")\n",
    "df.describe()"
   ]
  },
  {
   "cell_type": "code",
   "execution_count": null,
   "metadata": {},
   "outputs": [],
   "source": [
    "# Check for missing values / Eksik değerleri kontrol edelim\n",
    "print(\"Missing values / Eksik değerler:\")\n",
    "print(df.isnull().sum())\n",
    "print(\"\\nDuplicate rows / Tekrar eden satırlar:\", df.duplicated().sum())"
   ]
  },
  {
   "cell_type": "markdown",
   "metadata": {},
   "source": [
    "## 2. Exploratory Data Analysis (EDA) / Keşifsel Veri Analizi"
   ]
  },
  {
   "cell_type": "code",
   "execution_count": null,
   "metadata": {},
   "outputs": [],
   "source": [
    "# Target variable distribution / Hedef değişken dağılımı\n",
    "plt.figure(figsize=(15, 5))\n",
    "\n",
    "plt.subplot(1, 3, 1)\n",
    "plt.hist(df['target'], bins=50, alpha=0.7, color='skyblue')\n",
    "plt.title('Target Distribution / Hedef Değişken Dağılımı')\n",
    "plt.xlabel('House Value / Ev Değeri')\n",
    "plt.ylabel('Frequency / Frekans')\n",
    "\n",
    "plt.subplot(1, 3, 2)\n",
    "plt.boxplot(df['target'])\n",
    "plt.title('Target Boxplot / Hedef Değişken Kutu Grafiği')\n",
    "plt.ylabel('House Value / Ev Değeri')\n",
    "\n",
    "plt.subplot(1, 3, 3)\n",
    "from scipy import stats\n",
    "stats.probplot(df['target'], dist=\"norm\", plot=plt)\n",
    "plt.title('Q-Q Plot')\n",
    "\n",
    "plt.tight_layout()\n",
    "plt.show()\n",
    "\n",
    "print(f\"Target variable statistics / Hedef değişken istatistikleri:\")\n",
    "print(f\"Mean / Ortalama: {df['target'].mean():.2f}\")\n",
    "print(f\"Median / Medyan: {df['target'].median():.2f}\")\n",
    "print(f\"Std / Standart Sapma: {df['target'].std():.2f}\")\n",
    "print(f\"Skewness / Çarpıklık: {df['target'].skew():.2f}\")"
   ]
  },
  {
   "cell_type": "code",
   "execution_count": null,
   "metadata": {},
   "outputs": [],
   "source": [
    "# Correlation matrix / Korelasyon matrisi\n",
    "plt.figure(figsize=(12, 10))\n",
    "correlation_matrix = df.corr()\n",
    "sns.heatmap(correlation_matrix, annot=True, cmap='coolwarm', center=0, \n",
    "            square=True, linewidths=0.5)\n",
    "plt.title('Correlation Matrix / Korelasyon Matrisi')\n",
    "plt.tight_layout()\n",
    "plt.show()\n",
    "\n",
    "# Features most correlated with target / Hedef ile en çok korelasyonlu özellikler\n",
    "target_corr = correlation_matrix['target'].abs().sort_values(ascending=False)\n",
    "print(\"\\nFeatures correlation with target / Özelliklerin hedef ile korelasyonu:\")\n",
    "print(target_corr[1:])"
   ]
  },
  {
   "cell_type": "code",
   "execution_count": null,
   "metadata": {},
   "outputs": [],
   "source": [
    "# Feature distributions / Özellik dağılımları\n",
    "fig, axes = plt.subplots(2, 4, figsize=(20, 10))\n",
    "features = df.columns[:-1]\n",
    "\n",
    "for i, feature in enumerate(features):\n",
    "    row = i // 4\n",
    "    col = i % 4\n",
    "    axes[row, col].hist(df[feature], bins=30, alpha=0.7)\n",
    "    axes[row, col].set_title(f'{feature} Distribution')\n",
    "    axes[row, col].set_xlabel(feature)\n",
    "    axes[row, col].set_ylabel('Frequency / Frekans')\n",
    "\n",
    "plt.tight_layout()\n",
    "plt.show()"
   ]
  },
  {
   "cell_type": "code",
   "execution_count": null,
   "metadata": {},
   "outputs": [],
   "source": [
    "# Scatter plots of top correlated features / En yüksek korelasyonlu özelliklerin scatter plotları\n",
    "top_features = target_corr[1:5].index\n",
    "\n",
    "fig, axes = plt.subplots(2, 2, figsize=(15, 12))\n",
    "for i, feature in enumerate(top_features):\n",
    "    row = i // 2\n",
    "    col = i % 2\n",
    "    axes[row, col].scatter(df[feature], df['target'], alpha=0.5)\n",
    "    axes[row, col].set_xlabel(feature)\n",
    "    axes[row, col].set_ylabel('House Value / Ev Değeri')\n",
    "    axes[row, col].set_title(f'{feature} vs Target (r={target_corr[feature]:.3f})')\n",
    "\n",
    "plt.tight_layout()\n",
    "plt.show()"
   ]
  },
  {
   "cell_type": "markdown",
   "metadata": {},
   "source": [
    "## 3. Data Preprocessing / Veri Ön İşleme"
   ]
  },
  {
   "cell_type": "code",
   "execution_count": null,
   "metadata": {},
   "outputs": [],
   "source": [
    "# Prepare features and target / Özellikleri ve hedefi hazırlayalım\n",
    "X = df.drop('target', axis=1)\n",
    "y = df['target']\n",
    "\n",
    "# Split the data / Veriyi bölelim\n",
    "X_train, X_test, y_train, y_test = train_test_split(X, y, test_size=0.2, random_state=42)\n",
    "\n",
    "print(f\"Training set size / Eğitim seti boyutu: {X_train.shape}\")\n",
    "print(f\"Test set size / Test seti boyutu: {X_test.shape}\")\n",
    "\n",
    "# Scale features for SVR / SVR için özellikleri ölçeklendirelim\n",
    "scaler = StandardScaler()\n",
    "X_train_scaled = scaler.fit_transform(X_train)\n",
    "X_test_scaled = scaler.transform(X_test)"
   ]
  },
  {
   "cell_type": "markdown",
   "metadata": {},
   "source": [
    "## 4. Decision Tree Regression Model / Karar Ağacı Regresyon Modeli"
   ]
  },
  {
   "cell_type": "code",
   "execution_count": null,
   "metadata": {},
   "outputs": [],
   "source": [
    "# Basic Decision Tree model / Temel Karar Ağacı modeli\n",
    "dt_basic = DecisionTreeRegressor(random_state=42)\n",
    "dt_basic.fit(X_train, y_train)\n",
    "\n",
    "# Predictions / Tahminler\n",
    "y_pred_dt_basic = dt_basic.predict(X_test)\n",
    "\n",
    "# Evaluate basic model / Temel modeli değerlendirelim\n",
    "mse_basic = mean_squared_error(y_test, y_pred_dt_basic)\n",
    "rmse_basic = np.sqrt(mse_basic)\n",
    "r2_basic = r2_score(y_test, y_pred_dt_basic)\n",
    "mae_basic = mean_absolute_error(y_test, y_pred_dt_basic)\n",
    "\n",
    "print(\"Basic Decision Tree Results / Temel Karar Ağacı Sonuçları:\")\n",
    "print(f\"RMSE: {rmse_basic:.4f}\")\n",
    "print(f\"R² Score: {r2_basic:.4f}\")\n",
    "print(f\"MAE: {mae_basic:.4f}\")\n",
    "print(f\"Tree depth / Ağaç derinliği: {dt_basic.get_depth()}\")\n",
    "print(f\"Number of leaves / Yaprak sayısı: {dt_basic.get_n_leaves()}\")"
   ]
  },
  {
   "cell_type": "code",
   "execution_count": null,
   "metadata": {},
   "outputs": [],
   "source": [
    "# Feature importance / Özellik önemliliği\n",
    "feature_importance = pd.DataFrame({\n",
    "    'feature': X.columns,\n",
    "    'importance': dt_basic.feature_importances_\n",
    "}).sort_values('importance', ascending=False)\n",
    "\n",
    "plt.figure(figsize=(10, 6))\n",
    "sns.barplot(data=feature_importance, x='importance', y='feature')\n",
    "plt.title('Feature Importance - Basic Decision Tree / Özellik Önemliliği - Temel Karar Ağacı')\n",
    "plt.xlabel('Importance / Önemlilik')\n",
    "plt.tight_layout()\n",
    "plt.show()\n",
    "\n",
    "print(\"\\nFeature Importance / Özellik Önemliliği:\")\n",
    "print(feature_importance)"
   ]
  },
  {
   "cell_type": "markdown",
   "metadata": {},
   "source": [
    "## 5. Hyperparameter Optimization / Hiperparametre Optimizasyonu"
   ]
  },
  {
   "cell_type": "code",
   "execution_count": null,
   "metadata": {},
   "outputs": [],
   "source": [
    "# Hyperparameter tuning for Decision Tree / Karar Ağacı için hiperparametre ayarlama\n",
    "param_grid_dt = {\n",
    "    'max_depth': [3, 5, 7, 10, None],\n",
    "    'min_samples_split': [2, 5, 10],\n",
    "    'min_samples_leaf': [1, 2, 4],\n",
    "    'max_features': ['auto', 'sqrt', 'log2']\n",
    "}\n",
    "\n",
    "dt_grid = GridSearchCV(\n",
    "    DecisionTreeRegressor(random_state=42),\n",
    "    param_grid_dt,\n",
    "    cv=5,\n",
    "    scoring='neg_mean_squared_error',\n",
    "    n_jobs=-1\n",
    ")\n",
    "\n",
    "print(\"Optimizing Decision Tree hyperparameters... / Karar Ağacı hiperparametrelerini optimize ediliyor...\")\n",
    "dt_grid.fit(X_train, y_train)\n",
    "\n",
    "print(\"\\nBest parameters / En iyi parametreler:\")\n",
    "print(dt_grid.best_params_)\n",
    "print(f\"\\nBest CV score / En iyi CV skoru: {-dt_grid.best_score_:.4f}\")"
   ]
  },
  {
   "cell_type": "code",
   "execution_count": null,
   "metadata": {},
   "outputs": [],
   "source": [
    "# Optimized Decision Tree / Optimize edilmiş Karar Ağacı\n",
    "dt_optimized = dt_grid.best_estimator_\n",
    "y_pred_dt_opt = dt_optimized.predict(X_test)\n",
    "\n",
    "# Evaluate optimized model / Optimize edilmiş modeli değerlendirelim\n",
    "mse_opt = mean_squared_error(y_test, y_pred_dt_opt)\n",
    "rmse_opt = np.sqrt(mse_opt)\n",
    "r2_opt = r2_score(y_test, y_pred_dt_opt)\n",
    "mae_opt = mean_absolute_error(y_test, y_pred_dt_opt)\n",
    "\n",
    "print(\"Optimized Decision Tree Results / Optimize Edilmiş Karar Ağacı Sonuçları:\")\n",
    "print(f\"RMSE: {rmse_opt:.4f}\")\n",
    "print(f\"R² Score: {r2_opt:.4f}\")\n",
    "print(f\"MAE: {mae_opt:.4f}\")\n",
    "print(f\"Tree depth / Ağaç derinliği: {dt_optimized.get_depth()}\")\n",
    "print(f\"Number of leaves / Yaprak sayısı: {dt_optimized.get_n_leaves()}\")\n",
    "\n",
    "print(f\"\\nImprovement / İyileşme:\")\n",
    "print(f\"RMSE improvement / RMSE iyileşmesi: {rmse_basic - rmse_opt:.4f}\")\n",
    "print(f\"R² improvement / R² iyileşmesi: {r2_opt - r2_basic:.4f}\")"
   ]
  },
  {
   "cell_type": "markdown",
   "metadata": {},
   "source": [
    "## 6. Comparison with Other Regression Models / Diğer Regresyon Modelleri ile Karşılaştırma"
   ]
  },
  {
   "cell_type": "code",
   "execution_count": null,
   "metadata": {},
   "outputs": [],
   "source": [
    "# Initialize models / Modelleri başlatalım\n",
    "models = {\n",
    "    'Linear Regression': LinearRegression(),\n",
    "    'Ridge Regression': Ridge(alpha=1.0),\n",
    "    'Elastic Net': ElasticNet(alpha=1.0, l1_ratio=0.5),\n",
    "    'SVR': SVR(kernel='rbf', C=1.0, gamma='scale'),\n",
    "    'Decision Tree (Basic)': DecisionTreeRegressor(random_state=42),\n",
    "    'Decision Tree (Optimized)': dt_optimized\n",
    "}\n",
    "\n",
    "# Store results / Sonuçları saklayalım\n",
    "results = []\n",
    "\n",
    "print(\"Training and evaluating models... / Modeller eğitiliyor ve değerlendiriliyor...\\n\")\n",
    "\n",
    "for name, model in models.items():\n",
    "    if 'SVR' in name:\n",
    "        # Use scaled data for SVR / SVR için ölçeklenmiş veri kullan\n",
    "        model.fit(X_train_scaled, y_train)\n",
    "        y_pred = model.predict(X_test_scaled)\n",
    "    else:\n",
    "        model.fit(X_train, y_train)\n",
    "        y_pred = model.predict(X_test)\n",
    "    \n",
    "    # Calculate metrics / Metrikleri hesapla\n",
    "    mse = mean_squared_error(y_test, y_pred)\n",
    "    rmse = np.sqrt(mse)\n",
    "    r2 = r2_score(y_test, y_pred)\n",
    "    mae = mean_absolute_error(y_test, y_pred)\n",
    "    \n",
    "    # Cross-validation score / Çapraz doğrulama skoru\n",
    "    if 'SVR' in name:\n",
    "        cv_scores = cross_val_score(model, X_train_scaled, y_train, cv=5, scoring='neg_mean_squared_error')\n",
    "    else:\n",
    "        cv_scores = cross_val_score(model, X_train, y_train, cv=5, scoring='neg_mean_squared_error')\n",
    "    \n",
    "    cv_rmse = np.sqrt(-cv_scores.mean())\n",
    "    \n",
    "    results.append({\n",
    "        'Model': name,\n",
    "        'RMSE': rmse,\n",
    "        'R²': r2,\n",
    "        'MAE': mae,\n",
    "        'CV_RMSE': cv_rmse\n",
    "    })\n",
    "    \n",
    "    print(f\"{name}:\")\n",
    "    print(f\"  RMSE: {rmse:.4f}\")\n",
    "    print(f\"  R²: {r2:.4f}\")\n",
    "    print(f\"  MAE: {mae:.4f}\")\n",
    "    print(f\"  CV RMSE: {cv_rmse:.4f}\\n\")\n",
    "\n",
    "# Create results DataFrame / Sonuçlar DataFrame'i oluştur\n",
    "results_df = pd.DataFrame(results)\n",
    "results_df = results_df.sort_values('RMSE')\n",
    "\n",
    "print(\"\\nModel Comparison Summary / Model Karşılaştırma Özeti:\")\n",
    "print(results_df.round(4))"
   ]
  },
  {
   "cell_type": "code",
   "execution_count": null,
   "metadata": {},
   "outputs": [],
   "source": [
    "# Visualize model comparison / Model karşılaştırmasını görselleştirelim\n",
    "fig, axes = plt.subplots(2, 2, figsize=(15, 12))\n",
    "\n",
    "# RMSE comparison / RMSE karşılaştırması\n",
    "axes[0, 0].bar(results_df['Model'], results_df['RMSE'], color='lightcoral')\n",
    "axes[0, 0].set_title('RMSE Comparison / RMSE Karşılaştırması')\n",
    "axes[0, 0].set_ylabel('RMSE')\n",
    "axes[0, 0].tick_params(axis='x', rotation=45)\n",
    "\n",
    "# R² comparison / R² karşılaştırması\n",
    "axes[0, 1].bar(results_df['Model'], results_df['R²'], color='lightblue')\n",
    "axes[0, 1].set_title('R² Score Comparison / R² Skor Karşılaştırması')\n",
    "axes[0, 1].set_ylabel('R² Score')\n",
    "axes[0, 1].tick_params(axis='x', rotation=45)\n",
    "\n",
    "# MAE comparison / MAE karşılaştırması\n",
    "axes[1, 0].bar(results_df['Model'], results_df['MAE'], color='lightgreen')\n",
    "axes[1, 0].set_title('MAE Comparison / MAE Karşılaştırması')\n",
    "axes[1, 0].set_ylabel('MAE')\n",
    "axes[1, 0].tick_params(axis='x', rotation=45)\n",
    "\n",
    "# CV RMSE comparison / CV RMSE karşılaştırması\n",
    "axes[1, 1].bar(results_df['Model'], results_df['CV_RMSE'], color='lightyellow')\n",
    "axes[1, 1].set_title('Cross-Validation RMSE / Çapraz Doğrulama RMSE')\n",
    "axes[1, 1].set_ylabel('CV RMSE')\n",
    "axes[1, 1].tick_params(axis='x', rotation=45)\n",
    "\n",
    "plt.tight_layout()\n",
    "plt.show()"
   ]
  },
  {
   "cell_type": "markdown",
   "metadata": {},
   "source": [
    "## 7. Decision Tree Visualization / Karar Ağacı Görselleştirmesi"
   ]
  },
  {
   "cell_type": "code",
   "execution_count": null,
   "metadata": {},
   "outputs": [],
   "source": [
    "# Visualize a simplified decision tree / Basitleştirilmiş karar ağacını görselleştirelim\n",
    "dt_simple = DecisionTreeRegressor(max_depth=3, random_state=42)\n",
    "dt_simple.fit(X_train, y_train)\n",
    "\n",
    "plt.figure(figsize=(20, 12))\n",
    "plot_tree(dt_simple, \n",
    "          feature_names=X.columns, \n",
    "          filled=True, \n",
    "          rounded=True, \n",
    "          fontsize=10)\n",
    "plt.title('Decision Tree Visualization (max_depth=3) / Karar Ağacı Görselleştirmesi (max_depth=3)')\n",
    "plt.show()\n",
    "\n",
    "# Performance of simplified tree / Basitleştirilmiş ağacın performansı\n",
    "y_pred_simple = dt_simple.predict(X_test)\n",
    "rmse_simple = np.sqrt(mean_squared_error(y_test, y_pred_simple))\n",
    "r2_simple = r2_score(y_test, y_pred_simple)\n",
    "\n",
    "print(f\"\\nSimplified Tree Performance / Basitleştirilmiş Ağaç Performansı:\")\n",
    "print(f\"RMSE: {rmse_simple:.4f}\")\n",
    "print(f\"R² Score: {r2_simple:.4f}\")"
   ]
  },
  {
   "cell_type": "markdown",
   "metadata": {},
   "source": [
    "## 8. Residual Analysis / Artık Analizi"
   ]
  },
  {
   "cell_type": "code",
   "execution_count": null,
   "metadata": {},
   "outputs": [],
   "source": [
    "# Residual analysis for best models / En iyi modeller için artık analizi\n",
    "best_models = ['Decision Tree (Optimized)', 'Linear Regression']\n",
    "\n",
    "fig, axes = plt.subplots(2, 2, figsize=(15, 12))\n",
    "\n",
    "for i, model_name in enumerate(best_models):\n",
    "    model = models[model_name]\n",
    "    \n",
    "    if 'SVR' in model_name:\n",
    "        y_pred = model.predict(X_test_scaled)\n",
    "    else:\n",
    "        y_pred = model.predict(X_test)\n",
    "    \n",
    "    residuals = y_test - y_pred\n",
    "    \n",
    "    # Predicted vs Actual / Tahmin vs Gerçek\n",
    "    axes[i, 0].scatter(y_test, y_pred, alpha=0.6)\n",
    "    axes[i, 0].plot([y_test.min(), y_test.max()], [y_test.min(), y_test.max()], 'r--', lw=2)\n",
    "    axes[i, 0].set_xlabel('Actual Values / Gerçek Değerler')\n",
    "    axes[i, 0].set_ylabel('Predicted Values / Tahmin Edilen Değerler')\n",
    "    axes[i, 0].set_title(f'{model_name} - Predicted vs Actual')\n",
    "    \n",
    "    # Residuals plot / Artık grafiği\n",
    "    axes[i, 1].scatter(y_pred, residuals, alpha=0.6)\n",
    "    axes[i, 1].axhline(y=0, color='r', linestyle='--')\n",
    "    axes[i, 1].set_xlabel('Predicted Values / Tahmin Edilen Değerler')\n",
    "    axes[i, 1].set_ylabel('Residuals / Artıklar')\n",
    "    axes[i, 1].set_title(f'{model_name} - Residuals Plot')\n",
    "\n",
    "plt.tight_layout()\n",
    "plt.show()"
   ]
  },
  {
   "cell_type": "markdown",
   "metadata": {},
   "source": [
    "## 9. Conclusions and Recommendations / Sonuçlar ve Öneriler\n",
    "\n",
    "**English:**\n",
    "Based on our comprehensive analysis:\n",
    "\n",
    "1. **Model Performance**: The optimized Decision Tree showed significant improvement over the basic version\n",
    "2. **Feature Importance**: MedInc (median income) and AveOccup (average occupancy) are the most important features\n",
    "3. **Comparison**: Linear models generally performed better than tree-based models on this dataset\n",
    "4. **Overfitting**: Basic Decision Tree showed signs of overfitting, which was reduced through hyperparameter tuning\n",
    "\n",
    "**Recommendations:**\n",
    "- Use cross-validation for reliable model evaluation\n",
    "- Consider ensemble methods like Random Forest for better performance\n",
    "- Feature engineering might improve model performance\n",
    "- Regular model retraining is recommended\n",
    "\n",
    "**Türkçe:**\n",
    "Kapsamlı analizimize dayanarak:\n",
    "\n",
    "1. **Model Performansı**: Optimize edilmiş Karar Ağacı, temel versiyona göre önemli iyileşme gösterdi\n",
    "2. **Özellik Önemliliği**: MedInc (medyan gelir) ve AveOccup (ortalama doluluk) en önemli özellikler\n",
    "3. **Karşılaştırma**: Bu veri setinde doğrusal modeller genellikle ağaç tabanlı modellerden daha iyi performans gösterdi\n",
    "4. **Aşırı Öğrenme**: Temel Karar Ağacı aşırı öğrenme belirtileri gösterdi, hiperparametre ayarlama ile azaltıldı\n",
    "\n",
    "**Öneriler:**\n",
    "- Güvenilir model değerlendirmesi için çapraz doğrulama kullanın\n",
    "- Daha iyi performans için Random Forest gibi topluluk yöntemlerini düşünün\n",
    "- Özellik mühendisliği model performansını artırabilir\n",
    "- Düzenli model yeniden eğitimi önerilir"
   ]
  },
  {
   "cell_type": "code",
   "execution_count": null,
   "metadata": {},
   "outputs": [],
   "source": [
    "# Final summary table / Son özet tablosu\n",
    "print(\"=\" * 80)\n",
    "print(\"FINAL MODEL COMPARISON SUMMARY / SON MODEL KARŞILAŞTIRMA ÖZETİ\")\n",
    "print(\"=\" * 80)\n",
    "print(results_df.round(4).to_string(index=False))\n",
    "print(\"=\" * 80)\n",
    "\n",
    "best_model = results_df.iloc[0]\n",
    "print(f\"\\nBest Model / En İyi Model: {best_model['Model']}\")\n",
    "print(f\"RMSE: {best_model['RMSE']:.4f}\")\n",
    "print(f\"R² Score: {best_model['R²']:.4f}\")\n",
    "print(f\"MAE: {best_model['MAE']:.4f}\")\n",
    "print(f\"CV RMSE: {best_model['CV_RMSE']:.4f}\")"
   ]
  }
 ],
 "metadata": {
  "kernelspec": {
   "display_name": "Python 3",
   "language": "python",
   "name": "python3"
  },
  "language_info": {
   "codemirror_mode": {
    "name": "ipython",
    "version": 3
   },
   "file_extension": ".py",
   "mimetype": "text/x-python",
   "name": "python",
   "nbconvert_exporter": "python",
   "pygments_lexer": "ipython3",
   "version": "3.8.5"
  }
 },
 "nbformat": 4,
 "nbformat_minor": 4
}